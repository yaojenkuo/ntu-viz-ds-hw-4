{
 "cells": [
  {
   "cell_type": "code",
   "execution_count": null,
   "metadata": {},
   "outputs": [],
   "source": [
    "!pip install pandas pyarrow"
   ]
  },
  {
   "cell_type": "code",
   "execution_count": null,
   "metadata": {},
   "outputs": [],
   "source": [
    "import requests\n",
    "import pandas as pd\n",
    "import hw_4_test as h4t"
   ]
  },
  {
   "cell_type": "code",
   "execution_count": null,
   "metadata": {},
   "outputs": [],
   "source": [
    "def create_standard_teams():\n",
    "    \"\"\"\n",
    "    >>> create_standard_teams()\n",
    "    returns a (52, 12) DataFrame\n",
    "    \"\"\"\n",
    "    resp_dict = requests.get(\"https://data.nba.net/prod/v2/2019/teams.json\").json()\n",
    "    teams_list = resp_dict['league']['standard']\n",
    "    # your answer here"
   ]
  },
  {
   "cell_type": "code",
   "execution_count": null,
   "metadata": {},
   "outputs": [],
   "source": [
    "def create_nba_teams():\n",
    "    \"\"\"\n",
    "    >>> create_nba_teams()\n",
    "    returns a (30, 12) DataFrame\n",
    "    \"\"\"\n",
    "    resp_dict = requests.get(\"https://data.nba.net/prod/v2/2019/teams.json\").json()\n",
    "    teams_list = resp_dict['league']['standard']\n",
    "    # your answer here"
   ]
  },
  {
   "cell_type": "code",
   "execution_count": null,
   "metadata": {},
   "outputs": [],
   "source": [
    "def create_standard_players():\n",
    "    \"\"\"\n",
    "    >>> create_standard_players()\n",
    "    returns a (683, 15) DataFrame\n",
    "    \"\"\"\n",
    "    resp_dict = requests.get(\"https://data.nba.net/prod/v1/2019/players.json\").json()\n",
    "    players_list = resp_dict['league']['standard']\n",
    "    # your answer here"
   ]
  },
  {
   "cell_type": "code",
   "execution_count": null,
   "metadata": {},
   "outputs": [],
   "source": [
    "def create_nba_players():\n",
    "    \"\"\"\n",
    "    >>> create_nba_players()\n",
    "    returns a (497, 15) DataFrame\n",
    "    \"\"\"\n",
    "    resp_dict = requests.get(\"https://data.nba.net/prod/v1/2019/players.json\").json()\n",
    "    players_list = resp_dict['league']['standard']\n",
    "    # your answer here"
   ]
  },
  {
   "cell_type": "code",
   "execution_count": null,
   "metadata": {},
   "outputs": [],
   "source": [
    "def count_nba_player_nationalities():\n",
    "    \"\"\"\n",
    "    >>> count_nba_player_nationalities()\n",
    "    returns a (41, 2) DataFrame\n",
    "    \"\"\"\n",
    "    resp_dict = requests.get(\"https://data.nba.net/prod/v1/2019/players.json\").json()\n",
    "    players_list = resp_dict['league']['standard']\n",
    "    # your answer here"
   ]
  },
  {
   "cell_type": "code",
   "execution_count": null,
   "metadata": {},
   "outputs": [],
   "source": [
    "answer_list = [create_standard_teams(), create_nba_teams(), create_standard_players(), create_nba_players(), count_nba_player_nationalities()]\n",
    "answer_dict = h4t.generate_answer_dict(answer_list)\n",
    "test_dict = h4t.generate_test_dict()\n",
    "h4t.run_tests(test_dict, answer_dict)"
   ]
  }
 ],
 "metadata": {
  "kernelspec": {
   "display_name": "Python Data Analysis",
   "language": "python",
   "name": "pyda"
  },
  "language_info": {
   "codemirror_mode": {
    "name": "ipython",
    "version": 3
   },
   "file_extension": ".py",
   "mimetype": "text/x-python",
   "name": "python",
   "nbconvert_exporter": "python",
   "pygments_lexer": "ipython3",
   "version": "3.6.8"
  }
 },
 "nbformat": 4,
 "nbformat_minor": 4
}
